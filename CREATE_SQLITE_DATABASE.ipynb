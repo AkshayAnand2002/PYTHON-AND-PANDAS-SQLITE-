{
 "cells": [
  {
   "cell_type": "code",
   "execution_count": 1,
   "id": "c8c9d32f",
   "metadata": {},
   "outputs": [],
   "source": [
    "import sqlite3 as sq3"
   ]
  },
  {
   "cell_type": "code",
   "execution_count": 2,
   "id": "5511470b",
   "metadata": {},
   "outputs": [],
   "source": [
    "con=sq3.connect(\"movies.db\")##FOR CREATING A NEW DATABASE."
   ]
  },
  {
   "cell_type": "code",
   "execution_count": 3,
   "id": "e1a8019a",
   "metadata": {},
   "outputs": [
    {
     "data": {
      "text/plain": [
       "<sqlite3.Connection at 0x232b93346c0>"
      ]
     },
     "execution_count": 3,
     "metadata": {},
     "output_type": "execute_result"
    }
   ],
   "source": [
    "con"
   ]
  },
  {
   "cell_type": "code",
   "execution_count": 4,
   "id": "0c9dcd72",
   "metadata": {},
   "outputs": [],
   "source": [
    "##ABOVE WE HAVE STARTED CONNECTION."
   ]
  },
  {
   "cell_type": "code",
   "execution_count": 5,
   "id": "06dc7785",
   "metadata": {},
   "outputs": [],
   "source": [
    "##THE DATABASE CREATED ABOVE IS EMPTY."
   ]
  },
  {
   "cell_type": "code",
   "execution_count": 6,
   "id": "89c7d114",
   "metadata": {},
   "outputs": [
    {
     "data": {
      "text/plain": [
       "[]"
      ]
     },
     "execution_count": 6,
     "metadata": {},
     "output_type": "execute_result"
    }
   ],
   "source": [
    "con.execute(\"SELECT * FROM sqlite_master\").fetchall()"
   ]
  },
  {
   "cell_type": "code",
   "execution_count": 7,
   "id": "b4a25a33",
   "metadata": {},
   "outputs": [],
   "source": [
    "##ABOVE COMMAND TO FETCH DATA FROM DATABASE."
   ]
  },
  {
   "cell_type": "code",
   "execution_count": 10,
   "id": "5422b47c",
   "metadata": {},
   "outputs": [
    {
     "data": {
      "text/plain": [
       "[]"
      ]
     },
     "execution_count": 10,
     "metadata": {},
     "output_type": "execute_result"
    }
   ],
   "source": [
    "con.execute(\"SELECT name FROM sqlite_master WHERE type='table' ORDER BY name\").fetchall()"
   ]
  },
  {
   "cell_type": "code",
   "execution_count": 11,
   "id": "b859053f",
   "metadata": {},
   "outputs": [],
   "source": [
    "###above command gives list of all tables in our database."
   ]
  },
  {
   "cell_type": "code",
   "execution_count": 12,
   "id": "b1644994",
   "metadata": {},
   "outputs": [],
   "source": [
    "con.close()"
   ]
  },
  {
   "cell_type": "code",
   "execution_count": null,
   "id": "cdb9db5b",
   "metadata": {},
   "outputs": [],
   "source": [
    "##WE SHOULD CLOSE OUR CONNECTION WHENVEVER WHEN WE END THE WORK."
   ]
  }
 ],
 "metadata": {
  "kernelspec": {
   "display_name": "Python 3 (ipykernel)",
   "language": "python",
   "name": "python3"
  },
  "language_info": {
   "codemirror_mode": {
    "name": "ipython",
    "version": 3
   },
   "file_extension": ".py",
   "mimetype": "text/x-python",
   "name": "python",
   "nbconvert_exporter": "python",
   "pygments_lexer": "ipython3",
   "version": "3.9.7"
  }
 },
 "nbformat": 4,
 "nbformat_minor": 5
}
